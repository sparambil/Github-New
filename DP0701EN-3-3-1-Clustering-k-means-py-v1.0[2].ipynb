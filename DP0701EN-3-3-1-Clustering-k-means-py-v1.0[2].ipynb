<!doctype html>
<html>
  <head>
    <meta name="viewport" content="width=device-width, initial-scale=1">
    <title>IBM Developer Skills Network - Labs</title>
    
      <script>
          var DEFAULT_HEARTBEAT_TIME = 120;
          console.log("Persisting DEFAULT_HEARTBEAT_TIME as " + DEFAULT_HEARTBEAT_TIME);
          var INACTIVE_LOGOUT_TIME = 30;
      </script>
    

    
    <link rel="stylesheet" type="text/css"
          href="/static/js/vendor/ap-components/ap-components.min.css"/>
    <link rel="stylesheet" type="text/css" href="/static/css/app.min.css"/>
    <link rel="icon" type="image/png" href="/static/images/favicon_16x16.png" sizes="16x16">
    <link rel="icon" type="image/png" href="/static/images/favicon_32x32.png" sizes="32x32">
    <link rel="shortcut icon" href="/static/images/favicon.ico">

    <link rel="stylesheet" type="text/css"
          href="/static/vendor/bootstrap/css/bootstrap.css"/>
    <link rel="stylesheet" type="text/css" href="/static/css/bootstrap-social.css"/>
    <link rel="stylesheet" type="text/css" href="/static/css/login.css"/>


    
    

    
      <!-- start Google Analytics -->
      <script>
        (function(i,s,o,g,r,a,m){i['GoogleAnalyticsObject']=r;i[r]=i[r]||function(){
        (i[r].q=i[r].q||[]).push(arguments)},i[r].l=1*new Date();a=s.createElement(o),
        m=s.getElementsByTagName(o)[0];a.async=1;a.src=g;m.parentNode.insertBefore(a,m)
        })(window,document,'script','//www.google-analytics.com/analytics.js','ga');

        ga('create', 'UA-1433936-16', 'auto');
        ga('send', 'pageview');
      </script>
      <!-- end Google Analytics -->
    


    
      <meta name="google-site-verification" content="" />
    

    
      <script type="text/javascript" src="https://cdn.ravenjs.com/3.6.1/raven.min.js"></script>
      <script>
        Raven.config('https://b052ab88487148ac9ff6eed308fd111b@labs-sentry.cognitiveclass.ai/4', {
          logger: 'monocle-frontend'
        }).install();
      </script>
    

    
      <!-- Inactivity session prompt start-->
      <script>
        var INACTIVITY_SESSION_ENABLED = JSON.parse('true');
      </script>

      <!-- Inactivity session prompt end -->
    

    
      <!-- Add CC portal urls into authorized domain list -->
      <script>
        var AUTHORIZED_PORTAL_LIST = JSON.parse('["https://courses.bdu.intela-edu.com", "https://courses.rtc.cognitiveclass.ai/", "https://courses.cc.imarticus.org/", "https://tcs.courses.cognitiveclass.ai/", "https://courses.course-dev.skills.network", "https://courses.npower.cognitiveclass.ai/", "https://courses.ibmautomationacademy.cognitiveclass.ai/", "https://courses.automation-test.portals-dev.apset.xyz/", "https://c2c.courses.cognitiveclass.ai/", "https://courses.newcollar.cognitiveclass.ai/", "https://courses.apskills.cognitiveclass.ai/", "https://bnp.courses.cognitiveclass.ai/", "https://courses.technet.cognitiveclass.cn/", "https://cornellu.courses.cognitiveclass.ai", "https://courses.statestreet.cognitiveclass.ai/", "https://courses.407etr.skillsnetwork.site/", "https://td.courses.cognitiveclass.ai/", "https://courses.test-suite.cognitiveclass.ai/", "https://courses.acme-tor.cognitiveclass.ai/", "https://courses.frcc.cognitiveclass.ai/", "https://waldenu.courses.cognitiveclass.ai/", "https://james-test-with-ann2.courses.cognitiveclass.ai/", "https://courses.abi.skillsnetwork.site/", "https://courses.bdu.ua-scs.com/", "https://courses.pingan.skillsnetwork.site/", "https://courses.acme.portals-dev.apset.xyz/", "https://courses.disney.skillsnetwork.site/", "https://sjtu.courses.bigdatauniversity.com.cn/", "https://courses.academicinitiative.cognitiveclass.ai/", "https://courses.idem.skillsnetwork.site/", "https://james-test-with-ann.courses.cognitiveclass.ai/", "https://courses.mds.cognitiveclass.ai/", "https://courses.bdu.bigdatarchitect.com/", "https://courses.waketech.cognitiveclass.ai/", "https://marcio.courses.cognitiveclass.ai/", "https://laureate.courses.cognitiveclass.ai/", "https://courses.ibmeph.cognitiveclass.ai/", "https://bli.courses.bigdatauniversity.com/", "https://courses.bdu.blifutureready.org/", "https://courses.hcl.cognitiveclass.ai/", "https://cibc.courses.bigdatauniversity.com/", "https://courses.simplilearn.skillsnetwork.site/", "https://courses.arrow.cognitiveclass.ai/", "https://twdc.courses.cognitiveclass.ai/", "https://courses.skillsnet.eduvance.in/", "https://courses.nonia.skillsnetwork.site/", "https://courses.call4codechina.skillsnetwork.site/", "https://courses.cc.apset.xyz/", "https://courses.rbc.skillsnetwork.site/", "https://courses.ibmdevelopers.portals-dev.apset.xyz/", "https://courses.course-dev.skills.network", "https://michael-dev.courses.cognitiveclass.ai/", "https://zambon.courses.cognitiveclass.ai/", "https://courses.withibm.cognitiveclass.ai/", "https://courses.techusandpit.cognitiveclass.ai/", "https://courses.bp2i.cognitiveclass.ai/", "https://courses.bdu.blifutureready.org", "https://courses.bigdatauniversity.com.cn/", "https://james-test-without-ann2.courses.cognitiveclass.ai/", "https://courses.techstars.cognitiveclass.ai/", "https://geico.courses.bigdatauniversity.com/", "https://courses.acme-itl.cognitiveclass.ai/", "https://courses.wipro-demo.skillsnetwork.site/", "https://courses.iag.cognitiveclass.ai/", "https://courses.cc.jigsawacademy.net/", "https://courses.ai4health.cognitiveclass.ai/", "https://courses.citi.cognitiveclass.ai/", "https://cognizant.courses.cognitiveclass.ai/", "https://courses.verizon.cognitiveclass.ai/", "https://anndemo.courses.cognitiveclass.ai/", "https://courses.n41.cognitiveclass.ai/", "http://courses.bdutest.galvanize.com/", "https://courses.western.cognitiveclass.ai/", "https://courses.dsai.skillsnetwork.site/", "https://courses.fnuniv.cognitiveclass.ai/", "https://courses.apdlearning.skillsnetwork.site/", "https://courses.missionreadyhq.cognitiveclass.ai/", "https://500startups.courses.cognitiveclass.ai/", "https://courses.cestar.cognitiveclass.ai/", "https://courses.dmc.cognitiveclass.ai/", "https://courses.dta.cognitiveclass.ai/", "https://james-test-without-ann.courses.cognitiveclass.ai/", "https://courses.rutgers.cognitiveclass.ai/", "https://ibmcep.courses.cognitiveclass.ai/", "https://aig.courses.bigdatauniversity.com/", "https://courses.casy.skillsnetwork.site/", "https://courses.cba.cognitiveclass.ai/", "https://courses.ibmaihardware.skillsnetwork.site/", "https://uwindsor.courses.cognitiveclass.ai/", "https://courses.shell-demo.skillsnetwork.site/", "https://ann-auto-test.courses.cognitiveclass.ai/", "https://courses.accenture.cognitiveclass.ai/", "https://courses.acme-dev-labs-prod.portals-dev.apset.xyz/", "https://courses.skills.thesmartbridge.com/", "https://courses.mindhand.cognitiveclass.ai/", "https://dxc.courses.bigdatauniversity.com/", "https://joshdev.courses.cognitiveclass.ai/", "https://courses.mitibmwatsonailab.cognitiveclass.ai/", "https://courses.fastlane.skillsnetwork.site/", "https://usvets.courses.cognitiveclass.ai/", "https://courses.skills.thesmartbridge.com/", "https://courses.ensimag.skillsnetwork.site/", "https://courses.futureskills.cognitiveclass.ai/", "https://courses.syd.cognitiveclass.ai/", "https://lighthouselabs.courses.cognitiveclass.ai/", "https://courses.ibmdeveloper.skillsnetwork.site/", "https://courses.manulife.cognitiveclass.ai/", "https://courses.learn.intellipaat.com/", "https://courses.centrum.cognitiveclass.ai/", "https://courses.itps.skillsnetwork.site/", "https://courses.nsic.cognitiveclass.ai/", "https://courses.techusandpit.cognitiveclass.ai/", "https://courses.entel.cognitiveclass.ai/", "https://courses.ubisoft.cognitiveclass.ai/", "https://courses.favcode54.cognitiveclass.ai/", "https://sl.courses.cognitiveclass.ai/", "https://pimco.courses.cognitiveclass.ai/", "https://courses.sa.edunetworld.com/", "https://anndemo3.courses.cognitiveclass.ai/"]');
      </script>
    

    
      
        <!-- Add base url into authorized domain list -->
        <script>
          if (typeof AUTHORIZED_PORTAL_LIST === "undefined"){
            var AUTHORIZED_PORTAL_LIST = [];
          }
          AUTHORIZED_PORTAL_LIST.push('https://courses.cognitiveclass.ai/');
        </script>
      
    

    
  </head>
  <body>
    
    <div class="main">
        <div class="wb-registration">
            <div class="container">


                <div class="row" style="margin-bottom: 20px; font-size: 1.3em;">
                    <div class="col-sm-offset-4 col-sm-4 text-center">
              <span style="font-size: xx-large; font-weight: bold;">
                <img src="/static/images/idsn-logo.png" style="max-width: 65px;"
                     data-pin-nopin="true" alt="Labs Logo">
                Labs
              </span>
                    </div>
                    <div style="clear: both;"></div>
                </div>
            </div>

            
                
            

            
                
            

            
                
                
                
            

            
            
            

            <div class="ap-container tabs-container">
                
  


                <div class="login-tabs tabs">
                    <ul class="tabs__list" role="tablist">

                        
                            <!-- SOCIAL LOGIN -->
                            <li class="tabs__tab tab" id="social-tab" role="tab" aria-controls="panel1"
                                aria-selected="True" tabindex=1>Log in with social
                            </li>
                        
                        <!-- EMAIL LOGIN -->
                        <li class="tabs__tab tab" id="email-tab" role="tab" aria-controls="panel2"
                            aria-selected="false"
                            tabindex=1>or Log in with email
                        </li>
                    </ul>

                    
                        <!-- SOCIAL LOGIN -->
                        <div class="tabs__tabpanel panel login-panel" id="panel1" role="tabpanel" aria-labelledby="social-tab"
                             aria-hidden="True">
                            <p class="text click-blurb">Click button to log in.</p>
                            
                                <div style="text-align:center; margin-bottom: 15px;">
                                    <a class="btn btn-social btn-lg btn-bdu" href="/bdu/login">
                                        <img src="/static/css/assets/img/bdu.svg"
                                             alt="Cognitive Class"> Cognitive Class
                                    </a>
                                </div>
                            
                            
                                <div style="text-align:center;">
                                    
                                        

                                    
                                        
                                            
                                                <a class="btn btn-social-icon btn-lg btn-linkedin" href="/linkedin/login">
                                                    <span class="fa fa-linkedin"></span>
                                                </a>
                                            
                                        

                                    
                                        
                                            
                                                <a class="btn btn-social-icon btn-lg btn-google" href="/google/login">
                                                    <span class="fa fa-google"></span>
                                                </a>
                                            
                                        

                                    
                                        
                                            
                                                <a class="btn btn-social-icon btn-lg btn-github" href="/github/login">
                                                    <span class="fa fa-github"></span>
                                                </a>
                                            
                                        

                                    
                                        
                                            
                                                <a class="btn btn-social-icon btn-lg btn-facebook" href="/facebook/login">
                                                    <span class="fa fa-facebook"></span>
                                                </a>
                                            
                                        

                                    
                                </div>
                            
                            <p class="text click-blurb">
                              By logging in, I acknowledge that I understand how 
                              IBM Developer Skills Network
                               is using my basic personal data, and that I am at least sixteen years of age. Our 
                              <a target="_blank" href="https://www.ibm.com/privacy/us/en/">Privacy Notice</a>
                               provides more details.
                            </p>

                            <p>
                                <a class="register-login-link-text"
                                   href="/register">Don't have an account? Sign up!</a>
                            </p>
                        </div>
                    
                    <!-- EMAIL LOGIN -->
                    <div class="tabs__tabpanel panel login-panel" id="panel2" role="tabpanel" aria-labelledby="email-tab"
                         aria-hidden="true">

                        <div id="loginForm" class="row">
                            <div class="col-sm-12">
                                <form id="form-set-password" class="form-horizontal" role="form" method="post"
                                      action="">
                                    <input type="hidden" name="input_next" value="https://labs.cognitiveclass.ai/tools/jupyterlab/lab/tree/labs/DP0701EN/DP0701EN-3-3-1-Clustering-k-means-py-v1.0.ipynb">

                                    <div class="form-group">
                                        <label class="col-sm-4 control-label">Username
                                            / Email</label>
                                        <div class="col-sm-8">
                                            <input type="text" placeholder="Username / Email"
                                                   class="text text--light" name="input_username">
                                        </div>
                                    </div>

                                    <div class="form-group">
                                        <label class="col-sm-4 control-label">Password</label>
                                        <div class="col-sm-8">
                                            <input type="password" placeholder="Password"
                                                   class="text text--light"
                                                   name="input_password">

                                            <span id="helpBlock" class="help-block text-right">
                    <a href="/reset_password">Forgot your password?</a>
                  </span>
                                        </div>
                                    </div>

                                    <div class="form-group">
                                        <div class="col-sm-offset-4 col-sm-8">
                                            <p class="text click-blurb">
                                              By logging in, I acknowledge that I understand how 
                                              IBM Developer Skills Network
                                               is using my basic personal data, and that I am at least sixteen years of age. Our 
                                              <a target="_blank" href="https://www.ibm.com/privacy/us/en/">Privacy Notice</a>
                                               provides more details.
                                            </p>
                                            
                                                <button type="submit" class="button"
                                                        style="width: 100%; margin-top:10px;"
                                                        onclick="$(this).addClass('button--disabled');">Log In</button>
                                            

                                        </div>
                                    </div>


                                    <div class="form-group">
                                        <div class="col-sm-offset-4 col-sm-8">
                                            <p class="text-center">
                                                <a class="register-login-link-text"
                                                   href="/register">Don't have an account? Sign up!</a>
                                            </p>
                                        </div>
                                    </div>
                                </form>
                            </div>
                        </div>

                    </div>
                </div>
            </div>


        </div>
    </div>

    <footer class="footer dark">
  <div>
    <a target="_blank" href="https://www.ibm.com/legal">Terms of Use</a>
    &nbsp;&nbsp;
    <a target="_blank" href="https://www.ibm.com/privacy/us/en/">Privacy Notice</a>
  </div>

  <div class="footer__love-msg">
    Crafted with <i class="fa fa-heart fa-fw"></i> and support from IBM
  </div>

  <div class="footer__copyright">
    &copy; Copyright IBM Developer Skills Network
    2019
  </div>
</footer>
    </div>


    
      <script src="/static/vendor/jquery.min.js"></script>
      
    <script src="/static/js/vendor/ap-components/ap-components.min.js"></script>
    <script src="/static/js/bundle.min.js"></script>


    

    <script type="text/javascript">
      window.sessionStorage.clear('seamonkeyMessages');
    </script>

    <!-- 
  -->


        <!-- minimize sidebar -->
        <script>
            $(function () {
                $("#menu-toggle").click(function(e) {
                    e.preventDefault();
                    $("#sidebar-wrapper").toggleClass("toggled");
                    $(".page").toggleClass("toggled");
                });
            });
        </script>

    

      <script>
        var appcuesLoader = document.createElement("script");

        appcuesLoader.addEventListener("load", function() {
          // Adblockers can block Appcues
          if (Appcues) {
            
              Appcues.anonymous();
            
          }
        });

        appcuesLoader.src = '//fast.appcues.com/37753.js';
        appcuesLoader.async = true;
        document.getElementsByTagName("script")[0].parentNode.appendChild(appcuesLoader);
      </script>

    

    
    
      <!-- start UserVoice -->
      <script type='text/javascript'>
        var api_key  = 'O5SLs1K1RfWhBYkHvMaXTg'; // pragma: whitelist secret
        var forum_id = '246775';

        // Include the UserVoice JavaScript SDK (only needed once on a page)
        UserVoice = window.UserVoice || [];
        (function() {
          var uv = document.createElement('script');
          uv.type = 'text/javascript';
          uv.async = true;
          uv.src = 'https://widget.uservoice.com/' + api_key + '.js';
          var s = document.getElementsByTagName('script')[0];
          s.parentNode.insertBefore(uv,s)
        })();

        

        //
        // UserVoice Javascript SDK developer documentation:
        // https://www.uservoice.com/o/javascript-sdk
        //
        UserVoice.push(['showTab', 'classic_widget', {
          mode: 'full',
          primary_color: '#19496A',
          link_color: '#007dbf',
          default_mode: 'support',
          tab_label: "Support",
          tab_color: '#19496A',
          tab_position: 'middle-right',
          tab_inverted: false
        }]);

        // Post new ideas to IBM Data Scientist Workbench forum
        UserVoice.push(['set', 'forum_id', forum_id]);

        
      </script>
      <!-- end UserVoice -->
    

    
  </body>
</html>